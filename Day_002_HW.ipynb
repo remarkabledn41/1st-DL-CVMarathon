{
 "cells": [
  {
   "cell_type": "markdown",
   "metadata": {},
   "source": [
    "## [作業目標]\n",
    "了解機器學習適合應用的領域與範疇。"
   ]
  },
  {
   "cell_type": "markdown",
   "metadata": {},
   "source": [
    "## [作業重點]\n",
    "透過瞭解機器學習的運作方式，找出非常適用機器學習應用的領域及其原因"
   ]
  },
  {
   "cell_type": "markdown",
   "metadata": {},
   "source": [
    "## 作業\n",
    "請找出一個你認為機器學習可以發光發熱的領域並闡述原因? "
   ]
  },
  {
   "cell_type": "markdown",
   "metadata": {},
   "source": [
    "## 預測金融產品(例如:股票)之漲/跌幅\n",
    "### 雖然漲/跌幅多寡是相對地難預測,通常會取決於世界的大小事,倘若能透過遵循歷史數據亦或是有跡可循,使得投資人掌握獲利的利器,形成穩賺不賠的局勢\n",
    "### 想必會引來趨之若鶩的資料科學家以及相關人士等投入心力\n",
    "### 然而如果大家都擁有這項利器,這也將引來另一波金融問題: 金錢的等效價值降低; \n",
    "### 因此即便可以預期許多人會願意投入此領域,但可以想見掌握這項技術的人並不會將之公諸於世"
   ]
  },
  {
   "cell_type": "code",
   "execution_count": null,
   "metadata": {},
   "outputs": [],
   "source": []
  }
 ],
 "metadata": {
  "kernelspec": {
   "display_name": "Python 3",
   "language": "python",
   "name": "python3"
  },
  "language_info": {
   "codemirror_mode": {
    "name": "ipython",
    "version": 3
   },
   "file_extension": ".py",
   "mimetype": "text/x-python",
   "name": "python",
   "nbconvert_exporter": "python",
   "pygments_lexer": "ipython3",
   "version": "3.7.4"
  }
 },
 "nbformat": 4,
 "nbformat_minor": 2
}
